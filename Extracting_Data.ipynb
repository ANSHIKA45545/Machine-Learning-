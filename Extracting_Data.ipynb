{
 "cells": [
  {
   "cell_type": "code",
   "execution_count": 46,
   "id": "e2904a5e-3f06-4c13-9037-d7633b58ff49",
   "metadata": {},
   "outputs": [
    {
     "data": {
      "text/plain": [
       "'Objective: \\nTo perform the importing and extraction of data from different file formats and display the summary statistics.\\nPrerequisites:\\n•\\tBasic knowledge of Python programming.\\n•\\tPython environment setup with the necessary libraries installed.\\nRequired Libraries\\nEnsure the following libraries are installed.\\n1.\\tPandas\\n2.\\tNumpy\\n3.\\tOpenpyxl\\n4.\\tXlrd\\n5.\\tSqlalchemy\\nCommand to install using pip:\\npip install pandas numpy openpyxl xlrd sqlalchemy'"
      ]
     },
     "execution_count": 46,
     "metadata": {},
     "output_type": "execute_result"
    }
   ],
   "source": [
    "'''Objective: \n",
    "To perform the importing and extraction of data from different file formats and display the summary statistics.\n",
    "\n",
    "Theory\n",
    "In data science and machine learning, real-world data comes in various formats such as CSV, Excel, JSON, and SQL databases. To effectively analyze and model this data, it's essential to know how to import and extract it using tools like Pandas, a powerful Python library for data manipulation.\n",
    "\n",
    "1. Importing Data from Different File Formats\n",
    " Pandas provides built-in functions to read from and write to multiple file types:\n",
    "    (i) CSV (Comma-Separated Values): A simple text format where data is separated by commas. Imported using pd.read_csv().\n",
    "    (ii) Excel: Common spreadsheet format with .xls or .xlsx extensions. Loaded using pd.read_excel().\n",
    "    (iii)JSON (JavaScript Object Notation): A structured format often used in APIs and web data. Read using pd.read_json().\n",
    "    (iv) SQL Databases: Structured data stored in relational databases. Accessed through pd.read_sql() in combination with a database connection (e.g., via SQLAlchemy).\n",
    " Each format has its own structure and use cases. Knowing how to work with all of them ensures flexibility in data handling.\n",
    "\n",
    "2. Displaying Summary Statistics\n",
    "Once data is imported, it is crucial to understand its characteristics before analysis. Pandas provides:\n",
    "df.describe() – Computes summary statistics (mean, median, std, etc.) for numerical columns.\n",
    "df.info() – Shows data types and non-null counts.\n",
    "df.isnull().sum() – Identifies missing values.\n",
    "df.dtypes – Reveals the data types of each column.\n",
    "df.corr() – Calculates correlation coefficients between numerical columns to detect linear relationships.\n",
    "\n",
    "Prerequisites:\n",
    "•\tBasic knowledge of Python programming.\n",
    "•\tPython environment setup with the necessary libraries installed.\n",
    "\n",
    "Required Libraries\n",
    "Ensure the following libraries are installed.\n",
    "1.\tPandas\n",
    "2.\tNumpy\n",
    "3.\tOpenpyxl\n",
    "4.\tXlrd\n",
    "5.\tSqlalchemy\n",
    "Command to install using pip:\n",
    "pip install pandas numpy openpyxl xlrd sqlalchemy'''\n"
   ]
  },
  {
   "cell_type": "code",
   "execution_count": 35,
   "id": "a5d95f04-7b2c-4db4-a62b-97af986be171",
   "metadata": {},
   "outputs": [],
   "source": [
    "#Program\n",
    "#Step I: Import required libraries\n",
    "import pandas as pd\n",
    "import numpy as np\n",
    "from sqlalchemy import create_engine"
   ]
  },
  {
   "cell_type": "code",
   "execution_count": 41,
   "id": "9f148a64-b61f-4eb5-8f5e-32f102be21e8",
   "metadata": {},
   "outputs": [
    {
     "data": {
      "text/html": [
       "<div>\n",
       "<style scoped>\n",
       "    .dataframe tbody tr th:only-of-type {\n",
       "        vertical-align: middle;\n",
       "    }\n",
       "\n",
       "    .dataframe tbody tr th {\n",
       "        vertical-align: top;\n",
       "    }\n",
       "\n",
       "    .dataframe thead th {\n",
       "        text-align: right;\n",
       "    }\n",
       "</style>\n",
       "<table border=\"1\" class=\"dataframe\">\n",
       "  <thead>\n",
       "    <tr style=\"text-align: right;\">\n",
       "      <th></th>\n",
       "      <th>ID</th>\n",
       "      <th>Name</th>\n",
       "      <th>Color</th>\n",
       "      <th>Price</th>\n",
       "    </tr>\n",
       "  </thead>\n",
       "  <tbody>\n",
       "    <tr>\n",
       "      <th>0</th>\n",
       "      <td>1</td>\n",
       "      <td>Apple</td>\n",
       "      <td>Red</td>\n",
       "      <td>110</td>\n",
       "    </tr>\n",
       "    <tr>\n",
       "      <th>1</th>\n",
       "      <td>2</td>\n",
       "      <td>Banana</td>\n",
       "      <td>Yellow</td>\n",
       "      <td>40</td>\n",
       "    </tr>\n",
       "    <tr>\n",
       "      <th>2</th>\n",
       "      <td>3</td>\n",
       "      <td>Mango</td>\n",
       "      <td>Brown</td>\n",
       "      <td>100</td>\n",
       "    </tr>\n",
       "    <tr>\n",
       "      <th>3</th>\n",
       "      <td>4</td>\n",
       "      <td>Orange</td>\n",
       "      <td>Orange</td>\n",
       "      <td>80</td>\n",
       "    </tr>\n",
       "    <tr>\n",
       "      <th>4</th>\n",
       "      <td>5</td>\n",
       "      <td>Guava</td>\n",
       "      <td>Green</td>\n",
       "      <td>50</td>\n",
       "    </tr>\n",
       "  </tbody>\n",
       "</table>\n",
       "</div>"
      ],
      "text/plain": [
       "   ID    Name   Color  Price\n",
       "0   1   Apple     Red    110\n",
       "1   2  Banana  Yellow     40\n",
       "2   3   Mango   Brown    100\n",
       "3   4  Orange  Orange     80\n",
       "4   5   Guava   Green     50"
      ]
     },
     "execution_count": 41,
     "metadata": {},
     "output_type": "execute_result"
    }
   ],
   "source": [
    "''' Step 2: Loading Data from Different File Formats\n",
    "Create Sample Data:'''\n",
    "# Create a sample data file using pandas\n",
    "data = pd.DataFrame({'ID': [1,2,3,4,5],\n",
    "                     'Name': ['Apple', 'Banana','Mango', 'Orange', 'Guava'],\n",
    "                     'Color': ['Red', 'Yellow', 'Brown', 'Orange', 'Green'],\n",
    "                     'Price': [110, 40, 100, 80, 50]})\n",
    "data"
   ]
  },
  {
   "cell_type": "code",
   "execution_count": 37,
   "id": "52396e6f-e481-4ffe-85df-c26700e665f7",
   "metadata": {},
   "outputs": [],
   "source": [
    "# Convert the data in different file formats:\n",
    "#1.CSV fiels:\n",
    "data.to_csv('sample_data.csv', index=False)\n",
    "#2. Excel files:\n",
    "data.to_excel('sample_data.xlsx', index=False)\n",
    "#3. JSON files:\n",
    "data.to_json('sample_data.json', orient='records')\n",
    "#4. SQL Databases\n",
    "engine = create_engine('sqlite:///sample_data.db')\n",
    "_=data.to_sql('sample_table', engine, index = False, if_exists='replace')"
   ]
  },
  {
   "cell_type": "code",
   "execution_count": 44,
   "id": "37588280-9786-48a8-baf2-adb000be9f87",
   "metadata": {},
   "outputs": [
    {
     "data": {
      "text/html": [
       "<div>\n",
       "<style scoped>\n",
       "    .dataframe tbody tr th:only-of-type {\n",
       "        vertical-align: middle;\n",
       "    }\n",
       "\n",
       "    .dataframe tbody tr th {\n",
       "        vertical-align: top;\n",
       "    }\n",
       "\n",
       "    .dataframe thead th {\n",
       "        text-align: right;\n",
       "    }\n",
       "</style>\n",
       "<table border=\"1\" class=\"dataframe\">\n",
       "  <thead>\n",
       "    <tr style=\"text-align: right;\">\n",
       "      <th></th>\n",
       "      <th>ID</th>\n",
       "      <th>Name</th>\n",
       "      <th>Color</th>\n",
       "      <th>Price</th>\n",
       "    </tr>\n",
       "  </thead>\n",
       "  <tbody>\n",
       "    <tr>\n",
       "      <th>0</th>\n",
       "      <td>1</td>\n",
       "      <td>Apple</td>\n",
       "      <td>Red</td>\n",
       "      <td>110</td>\n",
       "    </tr>\n",
       "    <tr>\n",
       "      <th>1</th>\n",
       "      <td>2</td>\n",
       "      <td>Banana</td>\n",
       "      <td>Yellow</td>\n",
       "      <td>40</td>\n",
       "    </tr>\n",
       "    <tr>\n",
       "      <th>2</th>\n",
       "      <td>3</td>\n",
       "      <td>Mango</td>\n",
       "      <td>Brown</td>\n",
       "      <td>100</td>\n",
       "    </tr>\n",
       "    <tr>\n",
       "      <th>3</th>\n",
       "      <td>4</td>\n",
       "      <td>Orange</td>\n",
       "      <td>Orange</td>\n",
       "      <td>80</td>\n",
       "    </tr>\n",
       "    <tr>\n",
       "      <th>4</th>\n",
       "      <td>5</td>\n",
       "      <td>Guava</td>\n",
       "      <td>Green</td>\n",
       "      <td>50</td>\n",
       "    </tr>\n",
       "  </tbody>\n",
       "</table>\n",
       "</div>"
      ],
      "text/plain": [
       "   ID    Name   Color  Price\n",
       "0   1   Apple     Red    110\n",
       "1   2  Banana  Yellow     40\n",
       "2   3   Mango   Brown    100\n",
       "3   4  Orange  Orange     80\n",
       "4   5   Guava   Green     50"
      ]
     },
     "execution_count": 44,
     "metadata": {},
     "output_type": "execute_result"
    }
   ],
   "source": [
    "#Load the data\n",
    "csv_data = pd.read_csv('sample_data.csv')\n",
    "excel_data = pd.read_excel('sample_data.xlsx')\n",
    "json_data = pd.read_json('sample_data.json', orient='records')\n",
    "sql_data = pd.read_sql('SELECT * FROM sample_table',engine)\n",
    "sql_data"
   ]
  },
  {
   "cell_type": "code",
   "execution_count": 48,
   "id": "bb94c698-084d-4261-8a73-a58ede0c1998",
   "metadata": {},
   "outputs": [],
   "source": [
    "#Display Summary Statistics\n",
    "#Create a function to display summary statistics:\n",
    "def display_summary_statistics(data):\n",
    "    print('Results')\n",
    "    print('Head of the data:\\n',data.head())\n",
    "    print('\\nSummary Statistics:\\n',data.describe())\n",
    "    print('\\nData types:\\n', data.dtypes)\n",
    "    print('\\nMisssing Values:\\n',data.isnull().sum())\n",
    "    numeric_data = data.select_dtypes(include = 'number')\n",
    "    print ('Correlataions:\\n', numeric_data.corr())\n",
    "\n"
   ]
  },
  {
   "cell_type": "code",
   "execution_count": 49,
   "id": "9547c108-65ff-42e1-9778-f0e1c7a3d549",
   "metadata": {},
   "outputs": [
    {
     "name": "stdout",
     "output_type": "stream",
     "text": [
      "Results\n",
      "Head of the data:\n",
      "    ID    Name   Color  Price\n",
      "0   1   Apple     Red    110\n",
      "1   2  Banana  Yellow     40\n",
      "2   3   Mango   Brown    100\n",
      "3   4  Orange  Orange     80\n",
      "4   5   Guava   Green     50\n",
      "\n",
      "Summary Statistics:\n",
      "              ID       Price\n",
      "count  5.000000    5.000000\n",
      "mean   3.000000   76.000000\n",
      "std    1.581139   30.495901\n",
      "min    1.000000   40.000000\n",
      "25%    2.000000   50.000000\n",
      "50%    3.000000   80.000000\n",
      "75%    4.000000  100.000000\n",
      "max    5.000000  110.000000\n",
      "\n",
      "Data types:\n",
      " ID        int64\n",
      "Name     object\n",
      "Color    object\n",
      "Price     int64\n",
      "dtype: object\n",
      "\n",
      "Misssing Values:\n",
      " ID       0\n",
      "Name     0\n",
      "Color    0\n",
      "Price    0\n",
      "dtype: int64\n",
      "Correlataions:\n",
      "              ID     Price\n",
      "ID     1.000000 -0.414781\n",
      "Price -0.414781  1.000000\n"
     ]
    }
   ],
   "source": [
    "display_summary_statistics(data)"
   ]
  },
  {
   "cell_type": "code",
   "execution_count": null,
   "id": "02a62ac5-2ced-4764-9211-2e5f72599deb",
   "metadata": {},
   "outputs": [],
   "source": []
  }
 ],
 "metadata": {
  "kernelspec": {
   "display_name": "Python 3 (ipykernel)",
   "language": "python",
   "name": "python3"
  },
  "language_info": {
   "codemirror_mode": {
    "name": "ipython",
    "version": 3
   },
   "file_extension": ".py",
   "mimetype": "text/x-python",
   "name": "python",
   "nbconvert_exporter": "python",
   "pygments_lexer": "ipython3",
   "version": "3.12.7"
  }
 },
 "nbformat": 4,
 "nbformat_minor": 5
}
